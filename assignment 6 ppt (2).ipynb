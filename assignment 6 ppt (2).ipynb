{
 "cells": [
  {
   "cell_type": "code",
   "execution_count": 1,
   "id": "2a650694-98fd-408f-a725-81ddda7d4a80",
   "metadata": {},
   "outputs": [
    {
     "name": "stdout",
     "output_type": "stream",
     "text": [
      "[0, 4, 1, 3, 2]\n"
     ]
    }
   ],
   "source": [
    "#question 1 answer\n",
    "class Solution:\n",
    "    def diStringMatch(self, s: str) -> list[int]:\n",
    "        ans = []\n",
    "        low = 0\n",
    "        high = len(s)\n",
    "        for c in s:\n",
    "            if c == 'I':\n",
    "                ans.append(low)\n",
    "                low+=1\n",
    "            else:\n",
    "                ans.append(high)\n",
    "                high-=1\n",
    "        return ans + [high]\n",
    "k=Solution()        \n",
    "s = \"IDID\"\n",
    "output=k.diStringMatch(s)\n",
    "print(output)"
   ]
  },
  {
   "cell_type": "code",
   "execution_count": 2,
   "id": "d713125f-7945-4529-b3c1-e98ff33e3c1a",
   "metadata": {},
   "outputs": [
    {
     "name": "stdout",
     "output_type": "stream",
     "text": [
      "True\n"
     ]
    }
   ],
   "source": [
    "#question 2 solution\n",
    "class Solution:\n",
    "    def searchMatrix(self, matrix: list[list[int]], target: int) -> bool:\n",
    "        rows, cols = len(matrix), len(matrix[0])\n",
    "        row = 0\n",
    "        for i in range(rows):\n",
    "            if matrix[i][0] > target:\n",
    "                row = i - 1\n",
    "                break\n",
    "        else:\n",
    "            row = rows - 1\n",
    "            \n",
    "        for j in range(cols):\n",
    "            if matrix[row][j] == target:\n",
    "                return True\n",
    "        return False\n",
    "k=Solution()        \n",
    "matrix = [[1,3,5,7],[10,11,16,20],[23,30,34,60]]\n",
    "target = 3\n",
    "output=k.searchMatrix(matrix,target)\n",
    "print(output)\n"
   ]
  },
  {
   "cell_type": "code",
   "execution_count": 3,
   "id": "12e5d0a8-1e2c-4d4f-b875-0fba03d13f73",
   "metadata": {},
   "outputs": [
    {
     "name": "stdout",
     "output_type": "stream",
     "text": [
      "2\n"
     ]
    }
   ],
   "source": [
    "#question 4 solution\n",
    "class Solution:\n",
    "    def findMaxLength(self, nums: list[int]) -> int:\n",
    "        totalsum,hashmap=0,{0:-1}\n",
    "        res,diff=0,0\n",
    "        for i in range(len(nums)):\n",
    "            if(nums[i]==0):\n",
    "                totalsum-=1\n",
    "            else:\n",
    "                totalsum+=1\n",
    "            try:\n",
    "                diff=i-hashmap[totalsum]\n",
    "                if(diff>res):\n",
    "                    res=diff\n",
    "            except:\n",
    "                hashmap[totalsum]=i\n",
    "        return res\n",
    "k=Solution()        \n",
    "nums = [0,1]\n",
    "output=k.findMaxLength(nums)\n",
    "print(output)"
   ]
  },
  {
   "cell_type": "code",
   "execution_count": 5,
   "id": "b7e3b518-e25e-4551-8ee1-35f24ad97cb2",
   "metadata": {},
   "outputs": [
    {
     "name": "stdout",
     "output_type": "stream",
     "text": [
      "[[1, 2, 3], [8, 9, 4], [7, 6, 5]]\n"
     ]
    }
   ],
   "source": [
    "#question 7 answer\n",
    "class Solution:\n",
    "    def generateMatrix(self, n: int) -> list[list[int]]:\n",
    "        matrix = [[0] * n for _ in range(n)]\n",
    "        \n",
    "        count = 1\n",
    "        rowStart = 0\n",
    "        rowEnd = n-1\n",
    "        colStart = 0\n",
    "        colEnd = n-1\n",
    "    \n",
    "        while(rowStart <= rowEnd and colStart <= colEnd):\n",
    "            for i in range(colStart, colEnd+1):\n",
    "                matrix[rowStart][i] = count\n",
    "                count += 1\n",
    "            rowStart += 1\n",
    "        \n",
    "            if rowStart > rowEnd:\n",
    "                break\n",
    "        \n",
    "            for i in range(rowStart, rowEnd+1):\n",
    "                matrix[i][colEnd] = count\n",
    "                count += 1\n",
    "            colEnd -= 1\n",
    "        \n",
    "            if colStart > colEnd:\n",
    "                break\n",
    "        \n",
    "            for i in range(colEnd, colStart-1, -1):\n",
    "                matrix[rowEnd][i] = count\n",
    "                count += 1\n",
    "            rowEnd -= 1\n",
    "        \n",
    "            if rowStart > rowEnd:\n",
    "                break\n",
    "        \n",
    "            for i in range(rowEnd, rowStart-1, -1):\n",
    "                matrix[i][colStart] = count\n",
    "                count += 1\n",
    "            colStart += 1\n",
    "        return matrix\n",
    "k=Solution()        \n",
    "n = 3\n",
    "output=k.generateMatrix(n)\n",
    "print(output)"
   ]
  },
  {
   "cell_type": "code",
   "execution_count": 7,
   "id": "3352a295-11ad-4e28-bb6d-a04a4215261e",
   "metadata": {},
   "outputs": [
    {
     "name": "stdout",
     "output_type": "stream",
     "text": [
      "False\n"
     ]
    }
   ],
   "source": [
    "#question 3 solution\n",
    "class Solution:\n",
    "    def validMountainArray(self, arr: list[int]) -> bool:\n",
    "        if len(arr) == 1:\n",
    "            return False\n",
    "        increasing, previous = None, arr[0]\n",
    "\n",
    "        for e in arr[1:]:\n",
    "            if previous == e:\n",
    "                return False\n",
    "            if increasing is None:\n",
    "                if e <= previous:\n",
    "                    return False\n",
    "                increasing = True\n",
    "            elif increasing and previous > e:\n",
    "                increasing = False\n",
    "            elif not increasing and previous < e:\n",
    "                return False\n",
    "            previous = e\n",
    "\n",
    "        return not increasing\n",
    "k=Solution()        \n",
    "arr = [2,1]\n",
    "output=k.validMountainArray(arr)\n",
    "print(output)"
   ]
  },
  {
   "cell_type": "code",
   "execution_count": null,
   "id": "18346f67-2ba4-4f71-9318-4f9627f22ff0",
   "metadata": {},
   "outputs": [],
   "source": []
  }
 ],
 "metadata": {
  "kernelspec": {
   "display_name": "Python 3 (ipykernel)",
   "language": "python",
   "name": "python3"
  },
  "language_info": {
   "codemirror_mode": {
    "name": "ipython",
    "version": 3
   },
   "file_extension": ".py",
   "mimetype": "text/x-python",
   "name": "python",
   "nbconvert_exporter": "python",
   "pygments_lexer": "ipython3",
   "version": "3.10.6"
  }
 },
 "nbformat": 4,
 "nbformat_minor": 5
}
